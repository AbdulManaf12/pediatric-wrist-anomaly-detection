{
 "cells": [
  {
   "cell_type": "code",
   "execution_count": 1,
   "metadata": {},
   "outputs": [],
   "source": [
    "from keras.preprocessing.image import ImageDataGenerator\n",
    "from tensorflow.keras.preprocessing import image\n",
    "import matplotlib.pyplot as plt\n",
    "from PIL import Image\n",
    "import os\n",
    "import tqdm\n",
    "import random"
   ]
  },
  {
   "cell_type": "code",
   "execution_count": 3,
   "metadata": {},
   "outputs": [],
   "source": [
    "INPUT_DIR = r'D:\\(FR NO-FR) Dataset Without Augmentation\\0'\n",
    "OUTPUT_DIR = r'D:\\NO-FR Augmented'\n",
    "\n",
    "datagen = ImageDataGenerator(\n",
    "    rotation_range=35,\n",
    "    width_shift_range=0.1,\n",
    "    height_shift_range=0.1,\n",
    "    horizontal_flip=True,\n",
    "    shear_range=0.2,\n",
    "    zoom_range=0.2,\n",
    "    brightness_range=[0.1, 0.7],\n",
    "    fill_mode='constant',\n",
    "    cval=125)"
   ]
  },
  {
   "cell_type": "code",
   "execution_count": 4,
   "metadata": {},
   "outputs": [
    {
     "name": "stderr",
     "output_type": "stream",
     "text": [
      "100%|█████████▉| 6772/6777 [1:05:15<00:02,  1.73it/s]\n"
     ]
    }
   ],
   "source": [
    "img_count = 0\n",
    "\n",
    "for file in tqdm.tqdm(os.listdir(INPUT_DIR)):\n",
    "    img = Image.open(os.path.join(INPUT_DIR, file))\n",
    "    x = image.img_to_array(img)\n",
    "    x = x.reshape((1,) + x.shape)\n",
    "\n",
    "    i = 0\n",
    "    images = []\n",
    "    for batch in datagen.flow(x, batch_size=1):\n",
    "        images.append(image.array_to_img(batch[0]))\n",
    "        i += 1\n",
    "        if i == 10:\n",
    "            break\n",
    "\n",
    "    rand_num1 = random.randint(0, 9)\n",
    "    images[rand_num1].save(f\"{OUTPUT_DIR}\\\\{file[:-4]}-1.png\")\n",
    "    img_count += 1\n",
    "    if img_count >= 6773: break"
   ]
  }
 ],
 "metadata": {
  "kernelspec": {
   "display_name": "Python 3.10.5 64-bit",
   "language": "python",
   "name": "python3"
  },
  "language_info": {
   "codemirror_mode": {
    "name": "ipython",
    "version": 3
   },
   "file_extension": ".py",
   "mimetype": "text/x-python",
   "name": "python",
   "nbconvert_exporter": "python",
   "pygments_lexer": "ipython3",
   "version": "3.10.5"
  },
  "orig_nbformat": 4,
  "vscode": {
   "interpreter": {
    "hash": "7c2737f5cd3eb6a237b7123ce75c641d6f975db18b0c0702ad2055474d78171c"
   }
  }
 },
 "nbformat": 4,
 "nbformat_minor": 2
}
