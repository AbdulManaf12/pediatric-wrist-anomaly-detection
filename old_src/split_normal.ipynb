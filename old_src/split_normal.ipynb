{
 "cells": [
  {
   "cell_type": "code",
   "execution_count": 1,
   "metadata": {},
   "outputs": [],
   "source": [
    "import os\n",
    "import shutil\n",
    "import pandas\n",
    "import tqdm"
   ]
  },
  {
   "cell_type": "code",
   "execution_count": 2,
   "metadata": {},
   "outputs": [
    {
     "name": "stderr",
     "output_type": "stream",
     "text": [
      "100%|█████████▉| 20327/20328 [07:17<00:00, 46.50it/s] \n"
     ]
    },
    {
     "ename": "UnicodeDecodeError",
     "evalue": "'charmap' codec can't decode byte 0x90 in position 660: character maps to <undefined>",
     "output_type": "error",
     "traceback": [
      "\u001b[1;31m---------------------------------------------------------------------------\u001b[0m",
      "\u001b[1;31mUnicodeDecodeError\u001b[0m                        Traceback (most recent call last)",
      "\u001b[1;32md:\\FYP\\Source Code\\Source\\split_normal.ipynb Cell 2\u001b[0m in \u001b[0;36m<cell line: 5>\u001b[1;34m()\u001b[0m\n\u001b[0;32m      <a href='vscode-notebook-cell:/d%3A/FYP/Source%20Code/Source/split_normal.ipynb#W0sZmlsZQ%3D%3D?line=4'>5</a>\u001b[0m \u001b[39mfor\u001b[39;00m file \u001b[39min\u001b[39;00m tqdm\u001b[39m.\u001b[39mtqdm(os\u001b[39m.\u001b[39mlistdir(LABEL_DIR)):\n\u001b[0;32m      <a href='vscode-notebook-cell:/d%3A/FYP/Source%20Code/Source/split_normal.ipynb#W0sZmlsZQ%3D%3D?line=5'>6</a>\u001b[0m     text \u001b[39m=\u001b[39m \u001b[39m'\u001b[39m\u001b[39m'\u001b[39m\n\u001b[1;32m----> <a href='vscode-notebook-cell:/d%3A/FYP/Source%20Code/Source/split_normal.ipynb#W0sZmlsZQ%3D%3D?line=6'>7</a>\u001b[0m     \u001b[39mfor\u001b[39;00m i \u001b[39min\u001b[39;00m \u001b[39mopen\u001b[39m(os\u001b[39m.\u001b[39mpath\u001b[39m.\u001b[39mjoin(LABEL_DIR, file)):\n\u001b[0;32m      <a href='vscode-notebook-cell:/d%3A/FYP/Source%20Code/Source/split_normal.ipynb#W0sZmlsZQ%3D%3D?line=7'>8</a>\u001b[0m         text \u001b[39m+\u001b[39m\u001b[39m=\u001b[39m i\n\u001b[0;32m      <a href='vscode-notebook-cell:/d%3A/FYP/Source%20Code/Source/split_normal.ipynb#W0sZmlsZQ%3D%3D?line=8'>9</a>\u001b[0m     \u001b[39mif\u001b[39;00m(\u001b[39mlen\u001b[39m(text\u001b[39m.\u001b[39msplit(\u001b[39m\"\u001b[39m\u001b[39m\\n\u001b[39;00m\u001b[39m\"\u001b[39m)) \u001b[39m==\u001b[39m \u001b[39m1\u001b[39m):\n",
      "File \u001b[1;32mc:\\Users\\Ammar\\AppData\\Local\\Programs\\Python\\Python310\\lib\\encodings\\cp1252.py:23\u001b[0m, in \u001b[0;36mIncrementalDecoder.decode\u001b[1;34m(self, input, final)\u001b[0m\n\u001b[0;32m     22\u001b[0m \u001b[39mdef\u001b[39;00m \u001b[39mdecode\u001b[39m(\u001b[39mself\u001b[39m, \u001b[39minput\u001b[39m, final\u001b[39m=\u001b[39m\u001b[39mFalse\u001b[39;00m):\n\u001b[1;32m---> 23\u001b[0m     \u001b[39mreturn\u001b[39;00m codecs\u001b[39m.\u001b[39;49mcharmap_decode(\u001b[39minput\u001b[39;49m,\u001b[39mself\u001b[39;49m\u001b[39m.\u001b[39;49merrors,decoding_table)[\u001b[39m0\u001b[39m]\n",
      "\u001b[1;31mUnicodeDecodeError\u001b[0m: 'charmap' codec can't decode byte 0x90 in position 660: character maps to <undefined>"
     ]
    }
   ],
   "source": [
    "LABEL_DIR = r'D:\\labels'\n",
    "INPUT_DIR = r'E:\\images'\n",
    "OUTPUT_DIR = r'D:\\aug'\n",
    "\n",
    "for file in tqdm.tqdm(os.listdir(LABEL_DIR)):\n",
    "    text = ''\n",
    "    for i in open(os.path.join(LABEL_DIR, file)):\n",
    "        text += i\n",
    "    if(len(text.split(\"\\n\")) == 1):\n",
    "        try:\n",
    "            if(text[0] == '8'):\n",
    "                input_file = os.path.join(INPUT_DIR, (file[:-4] + \".png\"))\n",
    "                output_file = os.path.join(\n",
    "                    (OUTPUT_DIR+\"\\\\0\"), (file[:-4] + \".png\"))\n",
    "                shutil.copy2(input_file, output_file)\n",
    "            else:\n",
    "                input_file = os.path.join(INPUT_DIR, (file[:-4] + \".png\"))\n",
    "                output_file = os.path.join(\n",
    "                    (OUTPUT_DIR+\"\\\\1\"), (file[:-4] + \".png\"))\n",
    "                shutil.copy2(input_file, output_file)\n",
    "        except:\n",
    "            input_file = os.path.join(INPUT_DIR, (file[:-4] + \".png\"))\n",
    "            output_file = os.path.join(\n",
    "                (OUTPUT_DIR+\"\\\\0\"), (file[:-4] + \".png\"))\n",
    "            shutil.copy2(input_file, output_file)\n",
    "\n",
    "    else:\n",
    "        input_file = os.path.join(INPUT_DIR, (file[:-4] + \".png\"))\n",
    "        output_file = os.path.join((OUTPUT_DIR+\"\\\\1\"), (file[:-4] + \".png\"))\n",
    "        shutil.copy2(input_file, output_file)\n"
   ]
  }
 ],
 "metadata": {
  "kernelspec": {
   "display_name": "Python 3.10.5 64-bit",
   "language": "python",
   "name": "python3"
  },
  "language_info": {
   "codemirror_mode": {
    "name": "ipython",
    "version": 3
   },
   "file_extension": ".py",
   "mimetype": "text/x-python",
   "name": "python",
   "nbconvert_exporter": "python",
   "pygments_lexer": "ipython3",
   "version": "3.10.5"
  },
  "orig_nbformat": 4,
  "vscode": {
   "interpreter": {
    "hash": "7c2737f5cd3eb6a237b7123ce75c641d6f975db18b0c0702ad2055474d78171c"
   }
  }
 },
 "nbformat": 4,
 "nbformat_minor": 2
}
