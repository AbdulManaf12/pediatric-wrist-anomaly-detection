{
 "cells": [
  {
   "cell_type": "code",
   "execution_count": 1,
   "id": "297ac736",
   "metadata": {},
   "outputs": [],
   "source": [
    "import splitfolders"
   ]
  },
  {
   "cell_type": "code",
   "execution_count": 2,
   "id": "97bacec5",
   "metadata": {},
   "outputs": [],
   "source": [
    "input_folder = r'D:\\Data With Augmentation'\n",
    "output_folder = r'D:\\Splitted Sets Normal and Abnormal (Aug)'"
   ]
  },
  {
   "cell_type": "code",
   "execution_count": 3,
   "id": "8ee09671",
   "metadata": {},
   "outputs": [
    {
     "name": "stderr",
     "output_type": "stream",
     "text": [
      "Copying files: 29990 files [02:17, 217.59 files/s]\n"
     ]
    }
   ],
   "source": [
    "splitfolders.ratio(input_folder, output=output_folder, seed=1337, ratio=(0.7, 0.2, .1))"
   ]
  }
 ],
 "metadata": {
  "kernelspec": {
   "display_name": "Python 3.10.5 64-bit",
   "language": "python",
   "name": "python3"
  },
  "language_info": {
   "codemirror_mode": {
    "name": "ipython",
    "version": 3
   },
   "file_extension": ".py",
   "mimetype": "text/x-python",
   "name": "python",
   "nbconvert_exporter": "python",
   "pygments_lexer": "ipython3",
   "version": "3.10.5"
  },
  "vscode": {
   "interpreter": {
    "hash": "7c2737f5cd3eb6a237b7123ce75c641d6f975db18b0c0702ad2055474d78171c"
   }
  }
 },
 "nbformat": 4,
 "nbformat_minor": 5
}
