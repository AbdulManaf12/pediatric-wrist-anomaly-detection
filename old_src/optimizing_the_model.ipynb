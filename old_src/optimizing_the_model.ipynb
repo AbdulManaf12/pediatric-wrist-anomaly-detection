{
 "cells": [
  {
   "cell_type": "code",
   "execution_count": 1,
   "id": "41449da6",
   "metadata": {},
   "outputs": [],
   "source": [
    "from tensorflow.keras.layers import BatchNormalization\n",
    "import pickle\n",
    "import tensorflow as tf\n",
    "from tensorflow.keras.models import Sequential\n",
    "from tensorflow.keras.layers import Dense, Flatten, Activation, Dropout, Conv2D, MaxPooling2D\n",
    "from tensorflow.keras.callbacks import TensorBoard\n",
    "import time"
   ]
  },
  {
   "cell_type": "code",
   "execution_count": 2,
   "id": "767183e6",
   "metadata": {},
   "outputs": [],
   "source": [
    "NAME = f'wri-cnn-64x4-{int(time.time())}'\n",
    "tensorboard = TensorBoard(log_dir=f'logs/{NAME}')"
   ]
  },
  {
   "cell_type": "code",
   "execution_count": 3,
   "id": "9d2cd4a5",
   "metadata": {},
   "outputs": [],
   "source": [
    "def pickle_load(x_name, y_name):    \n",
    "    pickle_in = open(f'{x_name}.pickle', 'rb')\n",
    "    X = pickle.load(pickle_in)\n",
    "    pickle_in.close()\n",
    "\n",
    "    pickle_in = open(f'{y_name}.pickle', 'rb')\n",
    "    y = pickle.load(pickle_in)\n",
    "    pickle_in.close()\n",
    "    return X, y\n",
    "\n",
    "def getConvModel(input_shape, num_kernels, hidden_neurons, num_layers):\n",
    "    model = Sequential()\n",
    "    model.add(Conv2D(num_kernels, (3, 3), input_shape=input_shape, activation='relu'))\n",
    "    model.add(BatchNormalization())\n",
    "    model.add(MaxPooling2D(pool_size=(2, 2)))\n",
    "    \n",
    "    for i in range(0, num_layers - 2):\n",
    "        model.add(Conv2D(num_kernels, (3, 3), activation='relu'))\n",
    "        model.add(MaxPooling2D(pool_size=(2, 2)))\n",
    "    \n",
    "    model.add(Flatten())\n",
    "    model.add(Dense(hidden_neurons, activation='relu'))\n",
    "    model.add(Dropout(0.5))\n",
    "#     model.add(Dense(hidden_neurons, activation='relu'))\n",
    "    \n",
    "    model.add(Dense(1, activation='sigmoid'))\n",
    "    model.compile(loss=\"binary_crossentropy\", optimizer='adam', metrics=[\"accuracy\"])\n",
    "    return model"
   ]
  },
  {
   "cell_type": "code",
   "execution_count": 4,
   "id": "280209d9",
   "metadata": {},
   "outputs": [],
   "source": [
    "X_train, y_train = pickle_load('X_train', 'y_train')\n",
    "X_val, y_val = pickle_load('X_val', 'y_val')"
   ]
  },
  {
   "cell_type": "code",
   "execution_count": null,
   "id": "1a0e4a73",
   "metadata": {},
   "outputs": [],
   "source": [
    "conv_model = getConvModel(X_train.shape[1:], 64, 64, 4)\n",
    "conv_model.fit(X_train, y_train, validation_data=(X_val, y_val), batch_size=32, epochs=10, callbacks=[tensorboard])"
   ]
  },
  {
   "cell_type": "code",
   "execution_count": null,
   "id": "47a2a087",
   "metadata": {},
   "outputs": [],
   "source": [
    "# serialize model to JSON\n",
    "model_json = conv_model.to_json()\n",
    "with open(\"conv_model.json\", \"w\") as json_file:\n",
    "    json_file.write(model_json)\n",
    "# serialize weights to HDF5\n",
    "conv_model.save_weights(\"conv_model.h5\")\n",
    "print(\"Saved model to disk\")"
   ]
  }
 ],
 "metadata": {
  "kernelspec": {
   "display_name": "Python 3.9.12 ('base')",
   "language": "python",
   "name": "python3"
  },
  "language_info": {
   "codemirror_mode": {
    "name": "ipython",
    "version": 3
   },
   "file_extension": ".py",
   "mimetype": "text/x-python",
   "name": "python",
   "nbconvert_exporter": "python",
   "pygments_lexer": "ipython3",
   "version": "3.9.12"
  },
  "vscode": {
   "interpreter": {
    "hash": "0056f0c79aecd50ccf86141af8fdaadffd50a1d357dc78b030005636210da6fe"
   }
  }
 },
 "nbformat": 4,
 "nbformat_minor": 5
}
